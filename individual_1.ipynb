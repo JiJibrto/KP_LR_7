{
 "cells": [
  {
   "cell_type": "markdown",
   "metadata": {},
   "source": [
    "<p>Cоздайте объект Series, связав его с переменной school , и наполните данными, которые бы отражали количество учащихся в разных классах (1а, 1б, 2б, 6а, 7в и т. п.).</p> \n",
    "<p>Внесите изменения в объект Series согласно следующему:</p> \n",
    "<ol>\n",
    "    <li>в одном из классов изменилось количество учащихся, \n",
    "    <li>в школе появился новый класс, \n",
    "    <li>в школе был расформирован (удален) другой класс.\n",
    "</ol>\n",
    "<p>Вычислите общее количество учащихся в школе.</p>\n"
   ]
  },
  {
   "cell_type": "code",
   "execution_count": 1,
   "metadata": {},
   "outputs": [],
   "source": [
    "import pandas as pd\n",
    "import numpy as np"
   ]
  },
  {
   "cell_type": "code",
   "execution_count": 5,
   "metadata": {},
   "outputs": [
    {
     "name": "stdout",
     "output_type": "stream",
     "text": [
      "classes\n",
      "1а    21\n",
      "1б    19\n",
      "2а    22\n",
      "4а    17\n",
      "6г    27\n",
      "dtype: int64\n"
     ]
    }
   ],
   "source": [
    "school = {'1а':21, '1б':19, '2а':22,'4а':17, '6г':27}\n",
    "school_ser = pd.Series(school)\n",
    "school_ser.index.name = 'classes'\n",
    "print(school_ser)"
   ]
  },
  {
   "cell_type": "markdown",
   "metadata": {},
   "source": [
    "<p><b>1.</b> В класс 2А добавили двух учеников</p>"
   ]
  },
  {
   "cell_type": "code",
   "execution_count": 7,
   "metadata": {},
   "outputs": [
    {
     "name": "stdout",
     "output_type": "stream",
     "text": [
      "classes\n",
      "1а    21\n",
      "1б    19\n",
      "2а    24\n",
      "4а    17\n",
      "6г    27\n",
      "dtype: int64\n"
     ]
    }
   ],
   "source": [
    "school_ser['2а'] += 2\n",
    "print(school_ser)"
   ]
  },
  {
   "cell_type": "markdown",
   "metadata": {},
   "source": [
    "<p><b>2.</b> В школу с помощью магии телепортировали класс 5Э</p>"
   ]
  },
  {
   "cell_type": "code",
   "execution_count": 11,
   "metadata": {},
   "outputs": [
    {
     "name": "stdout",
     "output_type": "stream",
     "text": [
      "1а    21\n",
      "1б    19\n",
      "2а    24\n",
      "4а    17\n",
      "6г    27\n",
      "5Э    77\n",
      "dtype: int64\n"
     ]
    }
   ],
   "source": [
    "school_ser = school_ser.append(pd.Series({'5Э':77}))\n",
    "print(school_ser)"
   ]
  },
  {
   "cell_type": "markdown",
   "metadata": {},
   "source": [
    "<p><b>3.</b> Так, как класс 6Г не признает магию, они аннигилировались путем самодетонирования</p>"
   ]
  },
  {
   "cell_type": "code",
   "execution_count": 12,
   "metadata": {},
   "outputs": [
    {
     "name": "stdout",
     "output_type": "stream",
     "text": [
      "1а    21\n",
      "1б    19\n",
      "2а    24\n",
      "4а    17\n",
      "5Э    77\n",
      "dtype: int64\n"
     ]
    }
   ],
   "source": [
    "del school_ser['6г']\n",
    "print(school_ser)"
   ]
  },
  {
   "cell_type": "markdown",
   "metadata": {},
   "source": [
    "Сумма всех учеников школы"
   ]
  },
  {
   "cell_type": "code",
   "execution_count": 13,
   "metadata": {},
   "outputs": [
    {
     "name": "stdout",
     "output_type": "stream",
     "text": [
      "158\n"
     ]
    }
   ],
   "source": [
    "print(school_ser.sum())"
   ]
  }
 ],
 "metadata": {
  "kernelspec": {
   "display_name": "Python 3",
   "language": "python",
   "name": "python3"
  },
  "language_info": {
   "codemirror_mode": {
    "name": "ipython",
    "version": 3
   },
   "file_extension": ".py",
   "mimetype": "text/x-python",
   "name": "python",
   "nbconvert_exporter": "python",
   "pygments_lexer": "ipython3",
   "version": "3.8.3"
  }
 },
 "nbformat": 4,
 "nbformat_minor": 4
}
